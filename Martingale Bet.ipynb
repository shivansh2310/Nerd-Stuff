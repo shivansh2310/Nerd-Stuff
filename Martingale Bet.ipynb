{
  "nbformat": 4,
  "nbformat_minor": 0,
  "metadata": {
    "colab": {
      "provenance": [],
      "authorship_tag": "ABX9TyNTCB0yBr3Y7EwaD8/7RMf2",
      "include_colab_link": true
    },
    "kernelspec": {
      "name": "python3",
      "display_name": "Python 3"
    },
    "language_info": {
      "name": "python"
    }
  },
  "cells": [
    {
      "cell_type": "markdown",
      "metadata": {
        "id": "view-in-github",
        "colab_type": "text"
      },
      "source": [
        "<a href=\"https://colab.research.google.com/github/shivansh2310/Nerd-Stuff/blob/main/Martingale%20Bet.ipynb\" target=\"_parent\"><img src=\"https://colab.research.google.com/assets/colab-badge.svg\" alt=\"Open In Colab\"/></a>"
      ]
    },
    {
      "cell_type": "code",
      "source": [
        "import numpy as np\n",
        "import matplotlib.pyplot as plt\n"
      ],
      "metadata": {
        "id": "9fVbRfbwPlPN"
      },
      "execution_count": 26,
      "outputs": []
    },
    {
      "cell_type": "code",
      "source": [
        "#Random Integers\n",
        "spin = np.random.randint(0, 37)\n"
      ],
      "metadata": {
        "id": "ibZV027lTdHt"
      },
      "execution_count": 27,
      "outputs": []
    },
    {
      "cell_type": "code",
      "source": [
        "#Parameters\n",
        "games = 100\n",
        "money = 100\n",
        "initial_bet = 1"
      ],
      "metadata": {
        "id": "s8Ka88RrTfS7"
      },
      "execution_count": 28,
      "outputs": []
    },
    {
      "cell_type": "code",
      "source": [
        "def betting(money, games = 100, initial_bet = 1 ):\n",
        "  position = np.zeros(games + 1)\n",
        "  position[0] = money\n",
        "  bet = initial_bet\n",
        "  idx = 0\n",
        "  while money >= bet and idx < games:\n",
        "    spin = np.random.randint(0, 37)\n",
        "    idx += 1\n",
        "\n",
        "    if spin % 2 == 0 and spin !=0:\n",
        "      money += bet\n",
        "      bet = initial_bet\n",
        "    else:\n",
        "      money -= bet\n",
        "      bet *= 2\n",
        "    position[idx] = money\n",
        "  return position\n"
      ],
      "metadata": {
        "id": "HWhJwpFXTrTU"
      },
      "execution_count": 29,
      "outputs": []
    },
    {
      "cell_type": "code",
      "source": [
        "position = betting(money = 100)"
      ],
      "metadata": {
        "id": "Rj5--D1SWPhZ"
      },
      "execution_count": 30,
      "outputs": []
    },
    {
      "cell_type": "code",
      "source": [
        "plt.plot(position)"
      ],
      "metadata": {
        "colab": {
          "base_uri": "https://localhost:8080/",
          "height": 282
        },
        "id": "DMZagcCXVJ2V",
        "outputId": "0829a858-2bb8-415e-8b64-9c23d0fd3d3d"
      },
      "execution_count": 31,
      "outputs": [
        {
          "output_type": "execute_result",
          "data": {
            "text/plain": [
              "[<matplotlib.lines.Line2D at 0x7f77c5cc4af0>]"
            ]
          },
          "metadata": {},
          "execution_count": 31
        },
        {
          "output_type": "display_data",
          "data": {
            "text/plain": [
              "<Figure size 432x288 with 1 Axes>"
            ],
            "image/png": "[encoded data removed]"
          },
          "metadata": {
            "needs_background": "light"
          }
        }
      ]
    },
    {
      "cell_type": "code",
      "source": [],
      "metadata": {
        "id": "zgyMUfKkVMuy"
      },
      "execution_count": 31,
      "outputs": []
    }
  ]
}