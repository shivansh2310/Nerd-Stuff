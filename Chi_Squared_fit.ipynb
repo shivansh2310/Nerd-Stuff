{
  "nbformat": 4,
  "nbformat_minor": 0,
  "metadata": {
    "colab": {
      "provenance": [],
      "authorship_tag": "ABX9TyOEJdR/8xSSoVKVBCjSP25v",
      "include_colab_link": true
    },
    "kernelspec": {
      "name": "python3",
      "display_name": "Python 3"
    },
    "language_info": {
      "name": "python"
    }
  },
  "cells": [
    {
      "cell_type": "markdown",
      "metadata": {
        "id": "view-in-github",
        "colab_type": "text"
      },
      "source": [
        "<a href=\"https://colab.research.google.com/github/shivansh2310/Nerd-Stuff/blob/main/Chi_Squared_fit.ipynb\" target=\"_parent\"><img src=\"https://colab.research.google.com/assets/colab-badge.svg\" alt=\"Open In Colab\"/></a>"
      ]
    },
    {
      "cell_type": "markdown",
      "source": [
        "##chi-square test from scratch"
      ],
      "metadata": {
        "id": "ornMGjnyAd2-"
      }
    },
    {
      "cell_type": "code",
      "execution_count": 5,
      "metadata": {
        "colab": {
          "base_uri": "https://localhost:8080/"
        },
        "id": "f4MMaHDy-D1E",
        "outputId": "4931fa94-0a00-49f3-cc9c-96514fa69ebe"
      },
      "outputs": [
        {
          "output_type": "stream",
          "name": "stdout",
          "text": [
            "\n",
            "Begin chi-square demo \n",
            "\n",
            "Observed counts, expected counts: \n",
            "[192, 163, 25]\n",
            "[180, 180, 20]\n",
            "\n",
            "chi_stat, p_val from scipy: \n",
            "3.65555556\n",
            "0.16077044\n",
            "\n",
            "chi_stat, p_val from scratch: \n",
            "3.65555556\n",
            "0.16077044\n",
            "\n",
            "Data suggests obs does not match expect! \n",
            "\n",
            "End demo \n"
          ]
        }
      ],
      "source": [
        "# chisq_area.py\n",
        "# chi-square test from scratch\n",
        "\n",
        "import numpy as np\n",
        "from scipy.stats import chisquare  # for verification\n",
        "\n",
        "def my_chisq_pval(x, df):\n",
        "  # x = computed chi-square stat\n",
        "  # df = degreess of freedom\n",
        "  # ACM algorithm 299 (calls ACM 209)\n",
        "  if x < 0.0 or df < 1:\n",
        "    print(\"FATAL argument error \")\n",
        "\n",
        "  a = 0.0  # 299 variable names\n",
        "  y = 0.0\n",
        "  s = 0.0\n",
        "  z = 0.0\n",
        "  ee = 0.0  # change from e\n",
        "  c = 0.0\n",
        "\n",
        "  even = True\n",
        "  a = 0.5 * x\n",
        "  if df % 2 == 0: even = True\n",
        "  else: even = False\n",
        "\n",
        "  if df > 1: y = my_exp(-a)  # ACM update remark (4)\n",
        "  if (even == True): s = y\n",
        "  else: s = 2.0 * gauss(-np.sqrt(x))\n",
        "  \n",
        "  if df > 2:\n",
        "    x = 0.5 * (df - 1.0)\n",
        "    if even == True: z = 1.0\n",
        "    else: z = 0.5\n",
        "    if a > 40.0:  # ACM remark (5)\n",
        "      if even == True: ee = 0.0\n",
        "      else: ee = 0.5723649429247000870717135\n",
        "      c = np.log(a)   # log base e\n",
        "      while z < x:\n",
        "        ee = np.log(z) + ee\n",
        "        s = s + my_exp(c * z - a - ee)  # ACM update remark (6)\n",
        "        z = z + 1.0\n",
        "      return s\n",
        "    else:  # a \"lte\" 40.0\n",
        "      if even == True: \n",
        "        ee = 1.0\n",
        "      else:\n",
        "        ee = 0.5641895835477562869480795 / np.sqrt(a)\n",
        "          \n",
        "      c = 0.0\n",
        "      while z < x:\n",
        "        ee = ee * (a / z)  # ACM update remark (7)\n",
        "        c = c + ee\n",
        "        z = z + 1.0\n",
        "      return c * y + s\n",
        "  else:  # df \"lte\" 2\n",
        "    return s\n",
        "\n",
        "def my_exp(x):\n",
        "  if x < -40.0:  # ACM update remark (8)\n",
        "    return 0.0\n",
        "  else:\n",
        "    return np.exp(x)\n",
        "\n",
        "def gauss(z):\n",
        "  # input: z-value (-inf to +inf)\n",
        "  # output = p under Normal curve from -inf to z\n",
        "  # ACM 209  \n",
        "\n",
        "  y = 0.0\n",
        "  p = 0.0\n",
        "  w = 0.0\n",
        "\n",
        "  if z == 0.0:\n",
        "    p = 0.0\n",
        "  else:\n",
        "    y = np.abs(z) / 2\n",
        "    if y > 3.0:\n",
        "      p = 1.0\n",
        "    elif y < 1.0:\n",
        "      w = y * y\n",
        "      p = ((((((((0.000124818987 * w \\\n",
        "        - 0.001075204047) * w + 0.005198775019) * w \\\n",
        "        - 0.019198292004) * w + 0.059054035642) * w \\\n",
        "        - 0.151968751364) * w + 0.319152932694) * w \\\n",
        "        - 0.531923007300) * w + 0.797884560593) * y \\\n",
        "        * 2.0\n",
        "    else:\n",
        "      y = y - 2.0\n",
        "      p = (((((((((((((-0.000045255659 * y \\\n",
        "        + 0.000152529290) * y - 0.000019538132) * y \\\n",
        "        - 0.000676904986) * y + 0.001390604284) * y \\\n",
        "        - 0.000794620820) * y - 0.002034254874) * y \\\n",
        "       + 0.006549791214) * y - 0.010557625006) * y \\\n",
        "       + 0.011630447319) * y - 0.009279453341) * y \\\n",
        "       + 0.005353579108) * y - 0.002141268741) * y \\\n",
        "       + 0.000535310849) * y + 0.999936657524\n",
        "\n",
        "  if z > 0.0:\n",
        "    return (p + 1.0) / 2\n",
        "  else:\n",
        "    return (1.0 - p) / 2 \n",
        "\n",
        "def my_chisquare(obs, expect):\n",
        "  x = 0.0\n",
        "  for i in range(len(obs)):\n",
        "    x += (obs[i] - expect[i])**2 / expect[i]\n",
        "  df = len(obs) - 1\n",
        "  p_val = my_chisq_pval(x, df)\n",
        "  return (x, p_val)\n",
        "\n",
        "def main():\n",
        "  print(\"\\nBegin chi-square demo \")\n",
        "\n",
        "  obs = [192, 163, 25]\n",
        "  expect = [180, 180, 20]\n",
        "  print(\"\\nObserved counts, expected counts: \")\n",
        "  print(obs)\n",
        "  print(expect)\n",
        "\n",
        "  # scipy\n",
        "  (chi_stat, pvalue) = chisquare(obs, expect)\n",
        "  print(\"\\nchi_stat, p_val from scipy: \")\n",
        "  print(\"%0.8f\" % chi_stat)\n",
        "  print(\"%0.8f\" % pvalue)\n",
        "\n",
        "  # scratch\n",
        "  (chi_stat, pvalue) = my_chisquare(obs, expect)\n",
        "  print(\"\\nchi_stat, p_val from scratch: \")\n",
        "  print(\"%0.8f\" % chi_stat)\n",
        "  print(\"%0.8f\" % pvalue)\n",
        "\n",
        "  if pvalue > 0.05:\n",
        "    print(\"\\nData suggests obs does not match expect! \")\n",
        "  else:\n",
        "    print(\"\\nNo evidence obs and expect do not match \")\n",
        "\n",
        "  print(\"\\nEnd demo \")\n",
        "\n",
        "if __name__ == \"__main__\":\n",
        "  main()"
      ]
    },
    {
      "cell_type": "markdown",
      "source": [
        "##Running Chi-Square Tests with Die Roll Data in Python"
      ],
      "metadata": {
        "id": "FrXvspp3AYRq"
      }
    },
    {
      "cell_type": "code",
      "source": [
        "import numpy as np\n",
        "a1 = [6, 4, 5, 10]\n",
        "a2 = [8, 5, 3, 3]\n",
        "a3 = [5, 4, 8, 4]\n",
        "a4 = [4, 11, 7, 13]\n",
        "a5 = [5, 8, 7, 6]\n",
        "a6 = [7, 3, 5, 9]\n",
        "dice = np.array([a1, a2, a3, a4, a5, a6])"
      ],
      "metadata": {
        "id": "PYyAtcWi_l2u"
      },
      "execution_count": 6,
      "outputs": []
    },
    {
      "cell_type": "code",
      "source": [
        "from scipy import stats\n",
        "\n",
        "stats.chi2_contingency(dice)"
      ],
      "metadata": {
        "colab": {
          "base_uri": "https://localhost:8080/"
        },
        "id": "Dja4B6PwDdhv",
        "outputId": "f36ebd6f-4d2e-4bd5-9be8-ae081a8b784e"
      },
      "execution_count": 7,
      "outputs": [
        {
          "output_type": "execute_result",
          "data": {
            "text/plain": [
              "(16.490612061288754,\n",
              " 0.35021521809742745,\n",
              " 15,\n",
              " array([[ 5.83333333,  5.83333333,  5.83333333,  7.5       ],\n",
              "        [ 4.43333333,  4.43333333,  4.43333333,  5.7       ],\n",
              "        [ 4.9       ,  4.9       ,  4.9       ,  6.3       ],\n",
              "        [ 8.16666667,  8.16666667,  8.16666667, 10.5       ],\n",
              "        [ 6.06666667,  6.06666667,  6.06666667,  7.8       ],\n",
              "        [ 5.6       ,  5.6       ,  5.6       ,  7.2       ]]))"
            ]
          },
          "metadata": {},
          "execution_count": 7
        }
      ]
    },
    {
      "cell_type": "code",
      "source": [
        "chi2_stat, p_val, dof, ex = stats.chi2_contingency(dice)\n",
        "print(\"===Chi2 Stat===\")\n",
        "print(chi2_stat)\n",
        "print(\"\\n\")\n",
        "print(\"===Degrees of Freedom===\")\n",
        "print(dof)\n",
        "print(\"\\n\")\n",
        "print(\"===P-Value===\")\n",
        "print(p_val)\n",
        "print(\"\\n\")\n",
        "print(\"===Contingency Table===\")\n",
        "print(ex)"
      ],
      "metadata": {
        "colab": {
          "base_uri": "https://localhost:8080/"
        },
        "id": "IgJZKRtgDfAN",
        "outputId": "a658f007-af36-4d84-bf92-667efcff4ea8"
      },
      "execution_count": 9,
      "outputs": [
        {
          "output_type": "stream",
          "name": "stdout",
          "text": [
            "===Chi2 Stat===\n",
            "16.490612061288754\n",
            "\n",
            "\n",
            "===Degrees of Freedom===\n",
            "15\n",
            "\n",
            "\n",
            "===P-Value===\n",
            "0.35021521809742745\n",
            "\n",
            "\n",
            "===Contingency Table===\n",
            "[[ 5.83333333  5.83333333  5.83333333  7.5       ]\n",
            " [ 4.43333333  4.43333333  4.43333333  5.7       ]\n",
            " [ 4.9         4.9         4.9         6.3       ]\n",
            " [ 8.16666667  8.16666667  8.16666667 10.5       ]\n",
            " [ 6.06666667  6.06666667  6.06666667  7.8       ]\n",
            " [ 5.6         5.6         5.6         7.2       ]]\n"
          ]
        }
      ]
    },
    {
      "cell_type": "code",
      "source": [
        "r1 = np.random.randint(1,7,1000)\n",
        "r2 = np.random.randint(1,7,1000)\n",
        "r3 = np.random.randint(1,7,1000)\n",
        "r4 = np.random.randint(1,7,1000)\n",
        "r5 = np.random.randint(1,7,1000)"
      ],
      "metadata": {
        "id": "lKB9wYTwDyJk"
      },
      "execution_count": 10,
      "outputs": []
    },
    {
      "cell_type": "code",
      "source": [
        "unique, counts1 = np.unique(r1, return_counts=True)\n",
        "unique, counts2 = np.unique(r2, return_counts=True)\n",
        "unique, counts3 = np.unique(r3, return_counts=True)\n",
        "unique, counts4 = np.unique(r4, return_counts=True)\n",
        "unique, counts5 = np.unique(r5, return_counts=True)"
      ],
      "metadata": {
        "id": "rkqi9nmHESWV"
      },
      "execution_count": 11,
      "outputs": []
    },
    {
      "cell_type": "code",
      "source": [
        "dice = np.array([counts1, counts2, counts3, counts4, counts5])"
      ],
      "metadata": {
        "id": "XZaoK19oEUjN"
      },
      "execution_count": 12,
      "outputs": []
    },
    {
      "cell_type": "code",
      "source": [
        "chi2_stat, p_val, dof, ex = stats.chi2_contingency(dice)\n",
        "print(\"===Chi2 Stat===\")\n",
        "print(chi2_stat)\n",
        "print(\"\\n\")\n",
        "print(\"===Degrees of Freedom===\")\n",
        "print(dof)\n",
        "print(\"\\n\")\n",
        "print(\"===P-Value===\")\n",
        "print(p_val)\n",
        "print(\"\\n\")\n",
        "print(\"===Contingency Table===\")\n",
        "print(ex)"
      ],
      "metadata": {
        "colab": {
          "base_uri": "https://localhost:8080/"
        },
        "id": "dIIst9gUEYRF",
        "outputId": "7c4ae51a-96b6-4f40-dfc0-8448d81e5afc"
      },
      "execution_count": 14,
      "outputs": [
        {
          "output_type": "stream",
          "name": "stdout",
          "text": [
            "===Chi2 Stat===\n",
            "16.872401634228922\n",
            "\n",
            "\n",
            "===Degrees of Freedom===\n",
            "20\n",
            "\n",
            "\n",
            "===P-Value===\n",
            "0.6612429407863081\n",
            "\n",
            "\n",
            "===Contingency Table===\n",
            "[[168.6 167.2 170.2 164.6 165.8 163.6]\n",
            " [168.6 167.2 170.2 164.6 165.8 163.6]\n",
            " [168.6 167.2 170.2 164.6 165.8 163.6]\n",
            " [168.6 167.2 170.2 164.6 165.8 163.6]\n",
            " [168.6 167.2 170.2 164.6 165.8 163.6]]\n"
          ]
        }
      ]
    },
    {
      "cell_type": "code",
      "source": [
        "r1 = np.random.randint(1,7,10000)\n",
        "r2 = np.random.randint(1,7,10000)\n",
        "r3 = np.random.randint(1,7,10000)\n",
        "r4 = np.random.randint(1,7,10000)\n",
        "r5 = np.random.randint(1,7,10000)"
      ],
      "metadata": {
        "id": "1Qa6u1CrGkRx"
      },
      "execution_count": 17,
      "outputs": []
    },
    {
      "cell_type": "code",
      "source": [
        "unique, counts1 = np.unique(r1, return_counts=True)\n",
        "unique, counts2 = np.unique(r2, return_counts=True)\n",
        "unique, counts3 = np.unique(r3, return_counts=True)\n",
        "unique, counts4 = np.unique(r4, return_counts=True)\n",
        "unique, counts5 = np.unique(r5, return_counts=True)"
      ],
      "metadata": {
        "id": "lBhwtgWyGp8k"
      },
      "execution_count": 18,
      "outputs": []
    },
    {
      "cell_type": "code",
      "source": [
        "dice = np.array([counts1, counts2, counts3, counts4, counts5])"
      ],
      "metadata": {
        "id": "Sj44-tPzGsYU"
      },
      "execution_count": 19,
      "outputs": []
    },
    {
      "cell_type": "code",
      "source": [
        "chi2_stat, p_val, dof, ex = stats.chi2_contingency(dice)\n",
        "print(\"===Chi2 Stat===\")\n",
        "print(chi2_stat)\n",
        "print(\"\\n\")\n",
        "print(\"===Degrees of Freedom===\")\n",
        "print(dof)\n",
        "print(\"\\n\")\n",
        "print(\"===P-Value===\")\n",
        "print(p_val)\n",
        "print(\"\\n\")\n",
        "print(\"===Contingency Table===\")\n",
        "print(ex)"
      ],
      "metadata": {
        "colab": {
          "base_uri": "https://localhost:8080/"
        },
        "id": "xudvMjQPGxfu",
        "outputId": "cb80e617-6b90-45ee-d56e-6ff11695ca51"
      },
      "execution_count": 20,
      "outputs": [
        {
          "output_type": "stream",
          "name": "stdout",
          "text": [
            "===Chi2 Stat===\n",
            "14.963290781098925\n",
            "\n",
            "\n",
            "===Degrees of Freedom===\n",
            "20\n",
            "\n",
            "\n",
            "===P-Value===\n",
            "0.7785042540568157\n",
            "\n",
            "\n",
            "===Contingency Table===\n",
            "[[1666.6 1698.  1686.4 1641.8 1663.8 1643.4]\n",
            " [1666.6 1698.  1686.4 1641.8 1663.8 1643.4]\n",
            " [1666.6 1698.  1686.4 1641.8 1663.8 1643.4]\n",
            " [1666.6 1698.  1686.4 1641.8 1663.8 1643.4]\n",
            " [1666.6 1698.  1686.4 1641.8 1663.8 1643.4]]\n"
          ]
        }
      ]
    },
    {
      "cell_type": "code",
      "source": [
        "my_rolls_expected = [46.5, 46.5, 46.5, 46.5, 46.5, 46.5]\n",
        "my_rolls_actual =  [59, 63, 37, 38, 32, 50]\n",
        "stats.chisquare(my_rolls_actual, my_rolls_expected)"
      ],
      "metadata": {
        "colab": {
          "base_uri": "https://localhost:8080/"
        },
        "id": "QI59ALRKEZk1",
        "outputId": "8e5e722c-9b3f-4020-a142-024e9f974982"
      },
      "execution_count": 15,
      "outputs": [
        {
          "output_type": "execute_result",
          "data": {
            "text/plain": [
              "Power_divergenceResult(statistic=17.49462365591398, pvalue=0.003651257113910144)"
            ]
          },
          "metadata": {},
          "execution_count": 15
        }
      ]
    },
    {
      "cell_type": "code",
      "source": [
        "opp_rolls_expected = [50.5,50.5,50.5,50.5,50.5,50.5]\n",
        "opp_rolls_actual =  [39,39,46,54,53,72]\n",
        "stats.chisquare(opp_rolls_actual, opp_rolls_expected)"
      ],
      "metadata": {
        "colab": {
          "base_uri": "https://localhost:8080/"
        },
        "id": "XuAX72_GE1_d",
        "outputId": "3e92a09e-637a-4ec0-e6d2-24edfbbffb7f"
      },
      "execution_count": 16,
      "outputs": [
        {
          "output_type": "execute_result",
          "data": {
            "text/plain": [
              "Power_divergenceResult(statistic=15.158415841584159, pvalue=0.009706469571756566)"
            ]
          },
          "metadata": {},
          "execution_count": 16
        }
      ]
    },
    {
      "cell_type": "code",
      "source": [],
      "metadata": {
        "id": "8fwLzGBlE7Pd"
      },
      "execution_count": null,
      "outputs": []
    }
  ]
}