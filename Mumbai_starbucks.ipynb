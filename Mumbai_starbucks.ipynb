{
  "nbformat": 4,
  "nbformat_minor": 0,
  "metadata": {
    "colab": {
      "provenance": [],
      "authorship_tag": "ABX9TyNpaPJw0tbxtSF0GWwB5N0g",
      "include_colab_link": true
    },
    "kernelspec": {
      "name": "python3",
      "display_name": "Python 3"
    },
    "language_info": {
      "name": "python"
    }
  },
  "cells": [
    {
      "cell_type": "markdown",
      "metadata": {
        "id": "view-in-github",
        "colab_type": "text"
      },
      "source": [
        "<a href=\"https://colab.research.google.com/github/shivansh2310/Nerd-Stuff/blob/main/Mumbai_starbucks.ipynb\" target=\"_parent\"><img src=\"https://colab.research.google.com/assets/colab-badge.svg\" alt=\"Open In Colab\"/></a>"
      ]
    },
    {
      "cell_type": "code",
      "source": [
        "import requests\n",
        "import numpy as np\n",
        "import matplotlib.pyplot as plt\n",
        "import pandas as pd\n",
        "import re\n",
        "import folium\n",
        "from folium import plugins\n",
        "import geopy.distance\n",
        "import seaborn as sns\n",
        "from shapely.geometry import Point\n",
        "from shapely.geometry.polygon import Polygon"
      ],
      "metadata": {
        "id": "bNly95dfed9I"
      },
      "execution_count": 1,
      "outputs": []
    },
    {
      "cell_type": "code",
      "source": [
        "def get_store_lat_lngs(zcode):\n",
        "    request = f'https://www.starbucks.com/store-locator?place={zcode}'\n",
        "    response = requests.get(request)\n",
        "    lat_lngs = re.findall(r'\"coordinates\":\\{\"latitude\":(.*?)\\,\"longitude\":(.*?)\\}', response.text)\n",
        "    lat_lngs = [(float(item[0]), float(item[1])) for item in lat_lngs]\n",
        "    return lat_lngs"
      ],
      "metadata": {
        "id": "mIingYik63FN"
      },
      "execution_count": 8,
      "outputs": []
    },
    {
      "cell_type": "markdown",
      "source": [
        "## Getting all starbucks location in bombay"
      ],
      "metadata": {
        "id": "Vq-yb1ke-nte"
      }
    },
    {
      "cell_type": "code",
      "source": [
        "Mu_zips = pd.read_csv('/content/Mumbai_pincode.csv')"
      ],
      "metadata": {
        "id": "iiCEy8wZ-jfY"
      },
      "execution_count": 14,
      "outputs": []
    },
    {
      "cell_type": "code",
      "source": [
        "Mu_zips"
      ],
      "metadata": {
        "colab": {
          "base_uri": "https://localhost:8080/",
          "height": 423
        },
        "id": "rhjvrULJ-2eN",
        "outputId": "76946bbb-f2ec-48fb-8fd6-bcfdf42f8dcb"
      },
      "execution_count": 15,
      "outputs": [
        {
          "output_type": "execute_result",
          "data": {
            "text/plain": [
              "              Location  ZIPCODE        State District\n",
              "0     A I staff colony   400029  Maharashtra   Mumbai\n",
              "1     Aareymilk Colony   400065  Maharashtra   Mumbai\n",
              "2             Agripada   400011  Maharashtra   Mumbai\n",
              "3              Airport   400099  Maharashtra   Mumbai\n",
              "4             Ambewadi   400004  Maharashtra   Mumbai\n",
              "..                 ...      ...          ...      ...\n",
              "177              Worli   400018  Maharashtra   Mumbai\n",
              "178       Worli Colony   400030  Maharashtra   Mumbai\n",
              "179         Worli Naka   400018  Maharashtra   Mumbai\n",
              "180  Worli Police camp   400030  Maharashtra   Mumbai\n",
              "181     Worli Sea face   400030  Maharashtra   Mumbai\n",
              "\n",
              "[182 rows x 4 columns]"
            ],
            "text/html": [
              "\n",
              "  <div id=\"df-d03fc6ec-48ff-4c3e-afa5-99787738981c\">\n",
              "    <div class=\"colab-df-container\">\n",
              "      <div>\n",
              "<style scoped>\n",
              "    .dataframe tbody tr th:only-of-type {\n",
              "        vertical-align: middle;\n",
              "    }\n",
              "\n",
              "    .dataframe tbody tr th {\n",
              "        vertical-align: top;\n",
              "    }\n",
              "\n",
              "    .dataframe thead th {\n",
              "        text-align: right;\n",
              "    }\n",
              "</style>\n",
              "<table border=\"1\" class=\"dataframe\">\n",
              "  <thead>\n",
              "    <tr style=\"text-align: right;\">\n",
              "      <th></th>\n",
              "      <th>Location</th>\n",
              "      <th>ZIPCODE</th>\n",
              "      <th>State</th>\n",
              "      <th>District</th>\n",
              "    </tr>\n",
              "  </thead>\n",
              "  <tbody>\n",
              "    <tr>\n",
              "      <th>0</th>\n",
              "      <td>A I staff colony</td>\n",
              "      <td>400029</td>\n",
              "      <td>Maharashtra</td>\n",
              "      <td>Mumbai</td>\n",
              "    </tr>\n",
              "    <tr>\n",
              "      <th>1</th>\n",
              "      <td>Aareymilk Colony</td>\n",
              "      <td>400065</td>\n",
              "      <td>Maharashtra</td>\n",
              "      <td>Mumbai</td>\n",
              "    </tr>\n",
              "    <tr>\n",
              "      <th>2</th>\n",
              "      <td>Agripada</td>\n",
              "      <td>400011</td>\n",
              "      <td>Maharashtra</td>\n",
              "      <td>Mumbai</td>\n",
              "    </tr>\n",
              "    <tr>\n",
              "      <th>3</th>\n",
              "      <td>Airport</td>\n",
              "      <td>400099</td>\n",
              "      <td>Maharashtra</td>\n",
              "      <td>Mumbai</td>\n",
              "    </tr>\n",
              "    <tr>\n",
              "      <th>4</th>\n",
              "      <td>Ambewadi</td>\n",
              "      <td>400004</td>\n",
              "      <td>Maharashtra</td>\n",
              "      <td>Mumbai</td>\n",
              "    </tr>\n",
              "    <tr>\n",
              "      <th>...</th>\n",
              "      <td>...</td>\n",
              "      <td>...</td>\n",
              "      <td>...</td>\n",
              "      <td>...</td>\n",
              "    </tr>\n",
              "    <tr>\n",
              "      <th>177</th>\n",
              "      <td>Worli</td>\n",
              "      <td>400018</td>\n",
              "      <td>Maharashtra</td>\n",
              "      <td>Mumbai</td>\n",
              "    </tr>\n",
              "    <tr>\n",
              "      <th>178</th>\n",
              "      <td>Worli Colony</td>\n",
              "      <td>400030</td>\n",
              "      <td>Maharashtra</td>\n",
              "      <td>Mumbai</td>\n",
              "    </tr>\n",
              "    <tr>\n",
              "      <th>179</th>\n",
              "      <td>Worli Naka</td>\n",
              "      <td>400018</td>\n",
              "      <td>Maharashtra</td>\n",
              "      <td>Mumbai</td>\n",
              "    </tr>\n",
              "    <tr>\n",
              "      <th>180</th>\n",
              "      <td>Worli Police camp</td>\n",
              "      <td>400030</td>\n",
              "      <td>Maharashtra</td>\n",
              "      <td>Mumbai</td>\n",
              "    </tr>\n",
              "    <tr>\n",
              "      <th>181</th>\n",
              "      <td>Worli Sea face</td>\n",
              "      <td>400030</td>\n",
              "      <td>Maharashtra</td>\n",
              "      <td>Mumbai</td>\n",
              "    </tr>\n",
              "  </tbody>\n",
              "</table>\n",
              "<p>182 rows × 4 columns</p>\n",
              "</div>\n",
              "      <button class=\"colab-df-convert\" onclick=\"convertToInteractive('df-d03fc6ec-48ff-4c3e-afa5-99787738981c')\"\n",
              "              title=\"Convert this dataframe to an interactive table.\"\n",
              "              style=\"display:none;\">\n",
              "        \n",
              "  <svg xmlns=\"http://www.w3.org/2000/svg\" height=\"24px\"viewBox=\"0 0 24 24\"\n",
              "       width=\"24px\">\n",
              "    <path d=\"M0 0h24v24H0V0z\" fill=\"none\"/>\n",
              "    <path d=\"M18.56 5.44l.94 2.06.94-2.06 2.06-.94-2.06-.94-.94-2.06-.94 2.06-2.06.94zm-11 1L8.5 8.5l.94-2.06 2.06-.94-2.06-.94L8.5 2.5l-.94 2.06-2.06.94zm10 10l.94 2.06.94-2.06 2.06-.94-2.06-.94-.94-2.06-.94 2.06-2.06.94z\"/><path d=\"M17.41 7.96l-1.37-1.37c-.4-.4-.92-.59-1.43-.59-.52 0-1.04.2-1.43.59L10.3 9.45l-7.72 7.72c-.78.78-.78 2.05 0 2.83L4 21.41c.39.39.9.59 1.41.59.51 0 1.02-.2 1.41-.59l7.78-7.78 2.81-2.81c.8-.78.8-2.07 0-2.86zM5.41 20L4 18.59l7.72-7.72 1.47 1.35L5.41 20z\"/>\n",
              "  </svg>\n",
              "      </button>\n",
              "      \n",
              "  <style>\n",
              "    .colab-df-container {\n",
              "      display:flex;\n",
              "      flex-wrap:wrap;\n",
              "      gap: 12px;\n",
              "    }\n",
              "\n",
              "    .colab-df-convert {\n",
              "      background-color: #E8F0FE;\n",
              "      border: none;\n",
              "      border-radius: 50%;\n",
              "      cursor: pointer;\n",
              "      display: none;\n",
              "      fill: #1967D2;\n",
              "      height: 32px;\n",
              "      padding: 0 0 0 0;\n",
              "      width: 32px;\n",
              "    }\n",
              "\n",
              "    .colab-df-convert:hover {\n",
              "      background-color: #E2EBFA;\n",
              "      box-shadow: 0px 1px 2px rgba(60, 64, 67, 0.3), 0px 1px 3px 1px rgba(60, 64, 67, 0.15);\n",
              "      fill: #174EA6;\n",
              "    }\n",
              "\n",
              "    [theme=dark] .colab-df-convert {\n",
              "      background-color: #3B4455;\n",
              "      fill: #D2E3FC;\n",
              "    }\n",
              "\n",
              "    [theme=dark] .colab-df-convert:hover {\n",
              "      background-color: #434B5C;\n",
              "      box-shadow: 0px 1px 3px 1px rgba(0, 0, 0, 0.15);\n",
              "      filter: drop-shadow(0px 1px 2px rgba(0, 0, 0, 0.3));\n",
              "      fill: #FFFFFF;\n",
              "    }\n",
              "  </style>\n",
              "\n",
              "      <script>\n",
              "        const buttonEl =\n",
              "          document.querySelector('#df-d03fc6ec-48ff-4c3e-afa5-99787738981c button.colab-df-convert');\n",
              "        buttonEl.style.display =\n",
              "          google.colab.kernel.accessAllowed ? 'block' : 'none';\n",
              "\n",
              "        async function convertToInteractive(key) {\n",
              "          const element = document.querySelector('#df-d03fc6ec-48ff-4c3e-afa5-99787738981c');\n",
              "          const dataTable =\n",
              "            await google.colab.kernel.invokeFunction('convertToInteractive',\n",
              "                                                     [key], {});\n",
              "          if (!dataTable) return;\n",
              "\n",
              "          const docLinkHtml = 'Like what you see? Visit the ' +\n",
              "            '<a target=\"_blank\" href=https://colab.research.google.com/notebooks/data_table.ipynb>data table notebook</a>'\n",
              "            + ' to learn more about interactive tables.';\n",
              "          element.innerHTML = '';\n",
              "          dataTable['output_type'] = 'display_data';\n",
              "          await google.colab.output.renderOutput(dataTable, element);\n",
              "          const docLink = document.createElement('div');\n",
              "          docLink.innerHTML = docLinkHtml;\n",
              "          element.appendChild(docLink);\n",
              "        }\n",
              "      </script>\n",
              "    </div>\n",
              "  </div>\n",
              "  "
            ]
          },
          "metadata": {},
          "execution_count": 15
        }
      ]
    },
    {
      "cell_type": "code",
      "source": [
        "starbucks_locs = []\n"
      ],
      "metadata": {
        "id": "9jtThLI6-7Qd"
      },
      "execution_count": 16,
      "outputs": []
    },
    {
      "cell_type": "code",
      "source": [
        "for i,zcode in enumerate(Mu_zips.ZIPCODE.values):\n",
        "    print(f'{i} / {len(Mu_zips)}')\n",
        "    starbucks_locs += get_store_lat_lngs(zcode)"
      ],
      "metadata": {
        "colab": {
          "base_uri": "https://localhost:8080/"
        },
        "id": "8ENKpOM3-9NN",
        "outputId": "554f16e0-6a9e-4791-b395-421ea0e17d1a"
      },
      "execution_count": 17,
      "outputs": [
        {
          "output_type": "stream",
          "name": "stdout",
          "text": [
            "0 / 182\n",
            "1 / 182\n",
            "2 / 182\n",
            "3 / 182\n",
            "4 / 182\n",
            "5 / 182\n",
            "6 / 182\n",
            "7 / 182\n",
            "8 / 182\n",
            "9 / 182\n",
            "10 / 182\n",
            "11 / 182\n",
            "12 / 182\n",
            "13 / 182\n",
            "14 / 182\n",
            "15 / 182\n",
            "16 / 182\n",
            "17 / 182\n",
            "18 / 182\n",
            "19 / 182\n",
            "20 / 182\n",
            "21 / 182\n",
            "22 / 182\n",
            "23 / 182\n",
            "24 / 182\n",
            "25 / 182\n",
            "26 / 182\n",
            "27 / 182\n",
            "28 / 182\n",
            "29 / 182\n",
            "30 / 182\n",
            "31 / 182\n",
            "32 / 182\n",
            "33 / 182\n",
            "34 / 182\n",
            "35 / 182\n",
            "36 / 182\n",
            "37 / 182\n",
            "38 / 182\n",
            "39 / 182\n",
            "40 / 182\n",
            "41 / 182\n",
            "42 / 182\n",
            "43 / 182\n",
            "44 / 182\n",
            "45 / 182\n",
            "46 / 182\n",
            "47 / 182\n",
            "48 / 182\n",
            "49 / 182\n",
            "50 / 182\n",
            "51 / 182\n",
            "52 / 182\n",
            "53 / 182\n",
            "54 / 182\n",
            "55 / 182\n",
            "56 / 182\n",
            "57 / 182\n",
            "58 / 182\n",
            "59 / 182\n",
            "60 / 182\n",
            "61 / 182\n",
            "62 / 182\n",
            "63 / 182\n",
            "64 / 182\n",
            "65 / 182\n",
            "66 / 182\n",
            "67 / 182\n",
            "68 / 182\n",
            "69 / 182\n",
            "70 / 182\n",
            "71 / 182\n",
            "72 / 182\n",
            "73 / 182\n",
            "74 / 182\n",
            "75 / 182\n",
            "76 / 182\n",
            "77 / 182\n",
            "78 / 182\n",
            "79 / 182\n",
            "80 / 182\n",
            "81 / 182\n",
            "82 / 182\n",
            "83 / 182\n",
            "84 / 182\n",
            "85 / 182\n",
            "86 / 182\n",
            "87 / 182\n",
            "88 / 182\n",
            "89 / 182\n",
            "90 / 182\n",
            "91 / 182\n",
            "92 / 182\n",
            "93 / 182\n",
            "94 / 182\n",
            "95 / 182\n",
            "96 / 182\n",
            "97 / 182\n",
            "98 / 182\n",
            "99 / 182\n",
            "100 / 182\n",
            "101 / 182\n",
            "102 / 182\n",
            "103 / 182\n",
            "104 / 182\n",
            "105 / 182\n",
            "106 / 182\n",
            "107 / 182\n",
            "108 / 182\n",
            "109 / 182\n",
            "110 / 182\n",
            "111 / 182\n",
            "112 / 182\n",
            "113 / 182\n",
            "114 / 182\n",
            "115 / 182\n",
            "116 / 182\n",
            "117 / 182\n",
            "118 / 182\n",
            "119 / 182\n",
            "120 / 182\n",
            "121 / 182\n",
            "122 / 182\n",
            "123 / 182\n",
            "124 / 182\n",
            "125 / 182\n",
            "126 / 182\n",
            "127 / 182\n",
            "128 / 182\n",
            "129 / 182\n",
            "130 / 182\n",
            "131 / 182\n",
            "132 / 182\n",
            "133 / 182\n",
            "134 / 182\n",
            "135 / 182\n",
            "136 / 182\n",
            "137 / 182\n",
            "138 / 182\n",
            "139 / 182\n",
            "140 / 182\n",
            "141 / 182\n",
            "142 / 182\n",
            "143 / 182\n",
            "144 / 182\n",
            "145 / 182\n",
            "146 / 182\n",
            "147 / 182\n",
            "148 / 182\n",
            "149 / 182\n",
            "150 / 182\n",
            "151 / 182\n",
            "152 / 182\n",
            "153 / 182\n",
            "154 / 182\n",
            "155 / 182\n",
            "156 / 182\n",
            "157 / 182\n",
            "158 / 182\n",
            "159 / 182\n",
            "160 / 182\n",
            "161 / 182\n",
            "162 / 182\n",
            "163 / 182\n",
            "164 / 182\n",
            "165 / 182\n",
            "166 / 182\n",
            "167 / 182\n",
            "168 / 182\n",
            "169 / 182\n",
            "170 / 182\n",
            "171 / 182\n",
            "172 / 182\n",
            "173 / 182\n",
            "174 / 182\n",
            "175 / 182\n",
            "176 / 182\n",
            "177 / 182\n",
            "178 / 182\n",
            "179 / 182\n",
            "180 / 182\n",
            "181 / 182\n"
          ]
        }
      ]
    },
    {
      "cell_type": "code",
      "source": [
        "starbucks_locs = set(starbucks_locs)"
      ],
      "metadata": {
        "id": "MlcmnfmT_bxG"
      },
      "execution_count": 18,
      "outputs": []
    },
    {
      "cell_type": "code",
      "source": [
        "starbucks_locs = list(starbucks_locs)\n"
      ],
      "metadata": {
        "id": "mgWR-KW1AEw-"
      },
      "execution_count": 19,
      "outputs": []
    },
    {
      "cell_type": "code",
      "source": [
        "starbucks_locs"
      ],
      "metadata": {
        "colab": {
          "base_uri": "https://localhost:8080/"
        },
        "id": "uFqf_eofDtyH",
        "outputId": "53ff7603-00d2-4b85-f450-1f0b00693d81"
      },
      "execution_count": 31,
      "outputs": [
        {
          "output_type": "execute_result",
          "data": {
            "text/plain": [
              "[(19.0566, 72.85199),\n",
              " (19.03635, 72.87894),\n",
              " (19.13123, 72.82475),\n",
              " (19.21306, 72.84238),\n",
              " (19.06079, 72.86483),\n",
              " (19.23235, 72.85265),\n",
              " (19.20265, 72.96553),\n",
              " (19.14731, 72.82358),\n",
              " (19.24617, 72.85089),\n",
              " (19.1413, 72.83088),\n",
              " (18.96291, 72.80538),\n",
              " (19.02105, 73.01776),\n",
              " (18.99551, 72.82502),\n",
              " (19.06553, 72.83317),\n",
              " (19.25912, 72.98445),\n",
              " (19.02569, 72.85632),\n",
              " (19.13057, 72.82218),\n",
              " (19.05054, 72.82713),\n",
              " (19.09932, 72.87472),\n",
              " (19.09918, 72.85121),\n",
              " (19.07728, 72.90712),\n",
              " (19.09599, 72.87547),\n",
              " (19.15986, 72.94502),\n",
              " (19.02682, 72.83889),\n",
              " (19.10263, 72.87278),\n",
              " (19.11192, 72.86083),\n",
              " (19.07568, 72.83174),\n",
              " (19.00999, 72.83559),\n",
              " (19.20845, 72.97154),\n",
              " (19.18118, 72.94083),\n",
              " (19.05961, 72.83177),\n",
              " (19.11383, 72.8636),\n",
              " (19.10772, 72.8264),\n",
              " (19.15537, 72.85376),\n",
              " (19.09197, 72.85606),\n",
              " (19.01265, 72.82363),\n",
              " (19.16518, 72.85836),\n",
              " (19.09393, 72.92304),\n",
              " (19.11331, 72.83475),\n",
              " (19.0328, 72.8964),\n",
              " (18.99887, 72.82568),\n",
              " (18.995, 72.82456),\n",
              " (19.20902, 72.87266),\n",
              " (19.17388, 72.86045),\n",
              " (19.22794, 72.97025),\n",
              " (19.08638, 72.88924),\n",
              " (19.108, 72.88234),\n",
              " (18.93075, 72.83308),\n",
              " (19.10038, 72.82759),\n",
              " (19.21081, 72.87473),\n",
              " (18.9323, 72.83409),\n",
              " (18.9563, 72.81192),\n",
              " (19.09844, 72.8745),\n",
              " (19.11628, 72.90968),\n",
              " (19.13566, 72.83298),\n",
              " (19.20872, 72.97149),\n",
              " (19.07052, 72.82272),\n",
              " (19.11961, 72.90805),\n",
              " (19.17269, 72.83544),\n",
              " (19.18986, 72.96537),\n",
              " (19.14656, 72.82923),\n",
              " (19.15212, 72.83187),\n",
              " (18.99095, 72.81429),\n",
              " (19.02196, 73.0193),\n",
              " (18.99504, 72.83123),\n",
              " (19.0547, 72.8511),\n",
              " (19.09974, 72.91638),\n",
              " (19.18493, 72.83422),\n",
              " (19.17406, 72.86053),\n",
              " (18.93112, 72.82613),\n",
              " (18.92147, 72.83243),\n",
              " (18.9276, 72.82198),\n",
              " (19.00385, 72.82742),\n",
              " (19.04211, 72.86444)]"
            ]
          },
          "metadata": {},
          "execution_count": 31
        }
      ]
    },
    {
      "cell_type": "code",
      "source": [
        "len(starbucks_locs)"
      ],
      "metadata": {
        "colab": {
          "base_uri": "https://localhost:8080/"
        },
        "id": "pC3UUWReAYQe",
        "outputId": "bb3a0ed9-3500-4892-9d5f-48f94c3e6c07"
      },
      "execution_count": 30,
      "outputs": [
        {
          "output_type": "execute_result",
          "data": {
            "text/plain": [
              "74"
            ]
          },
          "metadata": {},
          "execution_count": 30
        }
      ]
    },
    {
      "cell_type": "markdown",
      "source": [
        "## Distance to the closest starbucks"
      ],
      "metadata": {
        "id": "J5hktLJaAIDk"
      }
    },
    {
      "cell_type": "code",
      "source": [
        "dist_matrix = np.empty((len(starbucks_locs), len(starbucks_locs)))\n",
        "for i1,s1 in enumerate(starbucks_locs):\n",
        "    for i2,s2 in enumerate(starbucks_locs):\n",
        "        if i1 <= i2:\n",
        "            d = geopy.distance.geodesic(s1, s2).mi\n",
        "            dist_matrix[i1,i2] = d\n",
        "            dist_matrix[i2,i1] = d"
      ],
      "metadata": {
        "id": "rcoDEqe7AF-d"
      },
      "execution_count": 20,
      "outputs": []
    },
    {
      "cell_type": "code",
      "source": [
        "np.fill_diagonal(dist_matrix, np.inf)"
      ],
      "metadata": {
        "id": "_MGUwIknAMxu"
      },
      "execution_count": 21,
      "outputs": []
    },
    {
      "cell_type": "code",
      "source": [
        "closest_locs = np.argmin(dist_matrix, axis=0)\n",
        "closest_dists = dist_matrix[np.arange(len(starbucks_locs)), closest_locs]"
      ],
      "metadata": {
        "id": "yJixThNNAOKu"
      },
      "execution_count": 22,
      "outputs": []
    },
    {
      "cell_type": "code",
      "source": [
        "import json"
      ],
      "metadata": {
        "id": "Stq1z4WwCukd"
      },
      "execution_count": 40,
      "outputs": []
    },
    {
      "cell_type": "code",
      "source": [
        "#map of Mumbai\n",
        "with open('/content/mumap.geojson') as f:\n",
        "    muArea = json.load(f)\n",
        "    \n",
        "mu_lng_lats = muArea['features'][0]['geometry']['coordinates'][0]\n",
        "polygon = Polygon(mu_lng_lats)\n",
        "\n",
        "#initialize the map around Mumbai\n",
        "muMap = folium.Map(location=[19.0760,72.8777], tiles='Stamen Toner', zoom_start=9)\n",
        "\n",
        "#add the shape of Mumbai to the map\n",
        "folium.GeoJson(muArea).add_to(muMap)\n",
        "\n",
        "#for each row in the Starbucks dataset, plot the corresponding latitude and longitude on the map\n",
        "for lat,lng in starbucks_locs:\n",
        "    if polygon.contains(Point(lng,lat)):\n",
        "        folium.CircleMarker((lat, lng), radius=4, weight=2, color='red', fill_color='red', fill_opacity=.5).add_to(muMap)\n",
        "   \n",
        "closest_dists_lim = []\n",
        "closest_locs = np.argmin(dist_matrix, axis=0)\n",
        "for i1,s1 in enumerate(starbucks_locs):\n",
        "    if polygon.contains(Point(s1[1],s1[0])):\n",
        "        s2 = starbucks_locs[closest_locs[i1]]\n",
        "        d = round(closest_dists[i1], 2)\n",
        "        folium.PolyLine([s1,s2], color='black', popup=f'{d} miles', fontsize=20).add_to(muMap)\n",
        "        closest_dists_lim.append(d)\n",
        "closest_dists_lim = np.array(closest_dists_lim)\n",
        "    \n",
        "#save the map as an html    \n",
        "muMap.save('muMap.html')"
      ],
      "metadata": {
        "id": "y_Xel23FAPY1"
      },
      "execution_count": 63,
      "outputs": []
    },
    {
      "cell_type": "code",
      "source": [
        "plt.figure(figsize=(16,5))\n",
        "sns.histplot(closest_dists_lim, kde=True, line_kws={'linewidth': 3}, stat='density')\n",
        "plt.xlabel('miles to closest Starbucks', fontsize=20)\n",
        "plt.xticks(np.arange(0, 3.1), fontsize=16)\n",
        "plt.ylabel('Density', fontsize=20)\n",
        "plt.axvline(np.mean(closest_dists), color='k', linestyle='--', linewidth=2.5, alpha=0.5)"
      ],
      "metadata": {
        "colab": {
          "base_uri": "https://localhost:8080/",
          "height": 365
        },
        "id": "wdAzP6O1Fytf",
        "outputId": "2ece6f08-695c-4e92-c907-9b60f2c1fc62"
      },
      "execution_count": 64,
      "outputs": [
        {
          "output_type": "execute_result",
          "data": {
            "text/plain": [
              "<matplotlib.lines.Line2D at 0x7f699e6d5580>"
            ]
          },
          "metadata": {},
          "execution_count": 64
        },
        {
          "output_type": "display_data",
          "data": {
            "text/plain": [
              "<Figure size 1152x360 with 1 Axes>"
            ],
            "image/png": "[encoded data removed]"
          },
          "metadata": {
            "needs_background": "light"
          }
        }
      ]
    },
    {
      "cell_type": "code",
      "source": [
        "closest_dists_lim.min(), closest_dists_lim.max()"
      ],
      "metadata": {
        "colab": {
          "base_uri": "https://localhost:8080/"
        },
        "id": "iaDJgDgQPW5E",
        "outputId": "4bc538b7-2ceb-42e1-ca2a-15d912e87567"
      },
      "execution_count": 59,
      "outputs": [
        {
          "output_type": "execute_result",
          "data": {
            "text/plain": [
              "(0.13, 0.64)"
            ]
          },
          "metadata": {},
          "execution_count": 59
        }
      ]
    },
    {
      "cell_type": "code",
      "source": [],
      "metadata": {
        "id": "Fap42PegQDXU"
      },
      "execution_count": null,
      "outputs": []
    }
  ]
}